{
 "cells": [
  {
   "cell_type": "code",
   "execution_count": null,
   "id": "af2d68ff",
   "metadata": {},
   "outputs": [],
   "source": [
    "# Importing necessary libraries\n",
    "import sys \n",
    "#!{sys.executable} -m pip install pandas\n",
    "#!{sys.executable} -m pip install opencv-python\n",
    "\n",
    "#!{sys.executable} -m pip install matplotlib\n",
    "\n",
    "#!{sys.executable} -m pip install scikit-learn\n",
    "\n",
    "#!{sys.executable} -m pip install lightgbm \n",
    "import pandas as pd\n",
    "import os\n",
    "import cv2\n",
    "import numpy as np\n",
    "import matplotlib.pyplot as plt\n",
    "from sklearn.model_selection import train_test_split\n",
    "from sklearn.ensemble import RandomForestClassifier\n",
    "from sklearn.svm import SVC\n",
    "from sklearn.neighbors import KNeighborsClassifier\n",
    "from lightgbm import LGBMClassifier\n",
    "from sklearn.metrics import accuracy_score\n",
    "from sklearn.metrics import precision_score\n",
    "from sklearn.metrics import recall_score\n",
    "from sklearn.metrics import f1_score\n",
    "from sklearn.metrics import roc_auc_score\n",
    "\n",
    "\n",
    "from tensorflow import keras\n",
    "from tensorflow.keras.models import Model, Sequential\n",
    "from tensorflow.keras.layers import (Rescaling, RandomFlip, RandomRotation, RandomZoom,\n",
    "                                    Dense, Flatten, Dropout, Conv2D, MaxPooling2D)\n",
    "from tensorflow.keras.utils import image_dataset_from_directory, plot_model\n",
    "from tensorflow.keras.preprocessing.image import array_to_img\n",
    "from tensorflow.keras.applications import VGG16"
   ]
  },
  {
   "cell_type": "code",
   "execution_count": null,
   "id": "3f812b01",
   "metadata": {},
   "outputs": [],
   "source": [
    "# Define some basic parameters\n",
    "\n",
    "batch_size = 32\n",
    "img_height = 150\n",
    "img_width = 150\n",
    "# Define the path to the datasets directories\n",
    "\n",
    "train_path = './seg_train/'\n",
    "test_path = './seg_test/'\n",
    "pred_path = './seg_pred/'\n",
    "# Define data loading function\n",
    "\n",
    "def load_data(path, labels):\n",
    "    dataset = image_dataset_from_directory(\n",
    "        directory=path,\n",
    "        labels=labels,\n",
    "        seed=123,\n",
    "        image_size=(img_height, img_width),\n",
    "        batch_size=batch_size\n",
    "    )\n",
    "    return dataset"
   ]
  },
  {
   "cell_type": "code",
   "execution_count": null,
   "id": "3846a062",
   "metadata": {},
   "outputs": [],
   "source": [
    "# # Load the dataset\n",
    "# df = pd.read_csv('/content/drive/MyDrive/intel-image-classification/seg_train.csv')\n",
    "\n",
    "# # Splitting into train and test set\n",
    "# X = df.drop('label', axis=1)\n",
    "# y = df['label']\n",
    "# X_train, X_test, y_train, y_test = train_test_split(X, y, test_size=0.2, random_state=42)\n",
    "\n",
    "# Define the path to the dataset\n",
    "data_dir = './seg_train'\n",
    "\n",
    "# Load the images and labels\n",
    "X = []\n",
    "y = []\n",
    "for label, folder_name in enumerate(os.listdir(data_dir)):\n",
    "    folder_path = os.path.join(data_dir, folder_name)\n",
    "    for file_name in os.listdir(folder_path):\n",
    "        file_path = os.path.join(folder_path, file_name)\n",
    "        img = cv2.imread(file_path)\n",
    "        img = cv2.cvtColor(img, cv2.COLOR_BGR2RGB)\n",
    "        img = cv2.resize(img, (64, 64)) # Resizing images to a common size\n",
    "        X.append(img)\n",
    "        y.append(label)\n",
    "\n",
    "# Convert the images and labels to numpy arrays\n",
    "X = np.array(X)\n",
    "y = np.array(y)\n",
    "\n",
    "# Splitting into train and test set\n",
    "X_train, X_test, y_train, y_test = train_test_split(X, y, test_size=0.2, random_state=42)\n",
    "\n",
    "# Preprocessing the images\n",
    "X_train = X_train.astype('float32') / 255.\n",
    "X_test = X_test.astype('float32') / 255."
   ]
  },
  {
   "cell_type": "code",
   "execution_count": null,
   "id": "2402b843",
   "metadata": {},
   "outputs": [],
   "source": [
    "# Training the Random Forest model\n",
    "rfc = RandomForestClassifier(n_estimators=100, random_state=42)\n",
    "rfc.fit(X_train.reshape(X_train.shape[0], -1), y_train)\n",
    "rfc_acc = accuracy_score(y_test, rfc.predict(X_test.reshape(X_test.shape[0], -1)))\n",
    "print(\"Random Forest accuracy:\", rfc_acc)"
   ]
  },
  {
   "cell_type": "code",
   "execution_count": null,
   "id": "02a56e88",
   "metadata": {},
   "outputs": [],
   "source": [
    "# Training the SVM model\n",
    "svc = SVC(kernel='rbf', random_state=42)\n",
    "svc.fit(X_train.reshape(X_train.shape[0], -1), y_train)\n",
    "svc_acc = accuracy_score(y_test, svc.predict(X_test.reshape(X_test.shape[0], -1)))\n",
    "print(\"SVM accuracy:\", svc_acc)"
   ]
  },
  {
   "cell_type": "code",
   "execution_count": null,
   "id": "6f758943",
   "metadata": {},
   "outputs": [],
   "source": [
    "# Training the KNN model\n",
    "knn = KNeighborsClassifier(n_neighbors=5)\n",
    "knn.fit(X_train.reshape(X_train.shape[0], -1), y_train)\n",
    "knn_acc = accuracy_score(y_test, knn.predict(X_test.reshape(X_test.shape[0], -1)))\n",
    "print(\"KNN accuracy:\", knn_acc)"
   ]
  },
  {
   "cell_type": "code",
   "execution_count": null,
   "id": "7b7a660b",
   "metadata": {},
   "outputs": [],
   "source": [
    "# Training the LightGBM model\n",
    "lgbm = LGBMClassifier(random_state=42)\n",
    "lgbm.fit(X_train.reshape(X_train.shape[0], -1), y_train)\n",
    "lgbm_acc = accuracy_score(y_test, lgbm.predict(X_test.reshape(X_test.shape[0], -1)))\n",
    "print(\"LightGBM accuracy:\", lgbm_acc)"
   ]
  },
  {
   "cell_type": "code",
   "execution_count": null,
   "id": "0818728e",
   "metadata": {},
   "outputs": [],
   "source": [
    "# Ensemble of the models\n",
    "ensemble = VotingClassifier(estimators=[('rfc', rfc), ('svc', svc), ('knn', knn), ('lgbm', lgbm)], voting='hard')\n",
    "ensemble.fit(X_train.reshape(X_train.shape[0], -1), y_train)\n",
    "ensemble_acc = accuracy_score(y_test, ensemble.predict(X_test.reshape(X_test.shape[0], -1)))\n",
    "print(\"Ensemble accuracy:\", ensemble_acc)"
   ]
  },
  {
   "cell_type": "code",
   "execution_count": null,
   "id": "d16a476b",
   "metadata": {},
   "outputs": [],
   "source": [
    "# Saving the models\n",
    "import joblib\n",
    "joblib.dump(rfc, \"rfc_model.pkl\")\n",
    "joblib.dump(svc, \"svc_model.pkl\")\n",
    "joblib.dump(knn, \"knn_model.pkl\")\n",
    "joblib.dump(lgbm, \"lgbm_model.pkl\")\n",
    "joblib.dump(ensemble, \"ensemble_model.pkl\")"
   ]
  },
  {
   "cell_type": "code",
   "execution_count": null,
   "id": "2558604c",
   "metadata": {},
   "outputs": [],
   "source": [
    "# Plotting the accuracy for each model\n",
    "models = ['Random Forest', 'SVM', 'KNN', 'LightGBM', 'Ensemble']\n",
    "accuracy = [rfc_acc, svc_acc, knn_acc, lgbm_acc, ensemble_acc]\n",
    "plt.bar(models, accuracy)\n",
    "plt.xlabel(\"Models\")\n",
    "plt.ylabel(\"Accuracy\")\n",
    "plt.title(\"Accuracy for each model\")\n",
    "plt.show()"
   ]
  },
  {
   "cell_type": "code",
   "execution_count": null,
   "id": "40776fd9",
   "metadata": {},
   "outputs": [],
   "source": [
    "# Plotting the learning graphs for each model\n",
    "plt.plot(rfc.estimators_[0].feature_importances_)\n",
    "plt.title(\"Feature importance - Random Forest\")\n",
    "plt.show()"
   ]
  },
  {
   "cell_type": "code",
   "execution_count": null,
   "id": "66856175",
   "metadata": {},
   "outputs": [],
   "source": [
    "plt.plot(svc.support_vectors_)\n",
    "plt.title(\"Support vectors - SVM\")\n",
    "plt.show()"
   ]
  },
  {
   "cell_type": "code",
   "execution_count": null,
   "id": "e0c178cf",
   "metadata": {},
   "outputs": [],
   "source": [
    "plt.plot(knn.kneighbors_graph(X_train)[0].toarray())\n",
    "plt.title(\"K-Neighbors Graph - KNN\")\n",
    "plt.show()"
   ]
  },
  {
   "cell_type": "code",
   "execution_count": null,
   "id": "61654273",
   "metadata": {},
   "outputs": [],
   "source": [
    "plt.plot(lgbm.feature_importances_)\n",
    "plt.title(\"Feature importance - LightGBM\")\n",
    "plt.show()"
   ]
  },
  {
   "cell_type": "code",
   "execution_count": null,
   "id": "ee649830",
   "metadata": {},
   "outputs": [],
   "source": []
  }
 ],
 "metadata": {
  "kernelspec": {
   "display_name": "Python 3 (ipykernel)",
   "language": "python",
   "name": "python3"
  },
  "language_info": {
   "codemirror_mode": {
    "name": "ipython",
    "version": 3
   },
   "file_extension": ".py",
   "mimetype": "text/x-python",
   "name": "python",
   "nbconvert_exporter": "python",
   "pygments_lexer": "ipython3",
   "version": "3.11.3"
  }
 },
 "nbformat": 4,
 "nbformat_minor": 5
}
